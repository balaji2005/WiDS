{
 "cells": [
  {
   "cell_type": "code",
   "execution_count": 1,
   "id": "3c78a290-13c0-43a6-80c5-4ceb13d2bd7a",
   "metadata": {},
   "outputs": [],
   "source": [
    "from matplotlib import pyplot as plt\n",
    "import cv2 as cv\n",
    "import numpy as np\n",
    "import imutils"
   ]
  },
  {
   "cell_type": "code",
   "execution_count": 2,
   "id": "f1412061-8ce7-4c12-b1a9-5797f51c7093",
   "metadata": {},
   "outputs": [],
   "source": [
    "def imshow(img, st='Untitled Image'):\n",
    "    img = cv.cvtColor(img, cv.COLOR_BGR2RGB)\n",
    "    plt.imshow(img)\n",
    "    plt.title(st)\n",
    "    plt.show()"
   ]
  },
  {
   "cell_type": "code",
   "execution_count": 3,
   "id": "31d1749b-44f5-4c32-8c3a-325ce43eda0f",
   "metadata": {},
   "outputs": [
    {
     "name": "stderr",
     "output_type": "stream",
     "text": [
      "[ WARN:0@1.920] global loadsave.cpp:248 findDecoder imread_('assign.jpg'): can't open/read file: check file path/integrity\n"
     ]
    },
    {
     "ename": "error",
     "evalue": "OpenCV(4.8.1) /io/opencv/modules/imgproc/src/color.cpp:182: error: (-215:Assertion failed) !_src.empty() in function 'cvtColor'\n",
     "output_type": "error",
     "traceback": [
      "\u001b[0;31m---------------------------------------------------------------------------\u001b[0m",
      "\u001b[0;31merror\u001b[0m                                     Traceback (most recent call last)",
      "Cell \u001b[0;32mIn[3], line 2\u001b[0m\n\u001b[1;32m      1\u001b[0m assign \u001b[38;5;241m=\u001b[39m cv\u001b[38;5;241m.\u001b[39mimread(\u001b[38;5;124m'\u001b[39m\u001b[38;5;124massign.jpg\u001b[39m\u001b[38;5;124m'\u001b[39m)\n\u001b[0;32m----> 2\u001b[0m \u001b[43mimshow\u001b[49m\u001b[43m(\u001b[49m\u001b[43massign\u001b[49m\u001b[43m)\u001b[49m\n",
      "Cell \u001b[0;32mIn[2], line 2\u001b[0m, in \u001b[0;36mimshow\u001b[0;34m(img, st)\u001b[0m\n\u001b[1;32m      1\u001b[0m \u001b[38;5;28;01mdef\u001b[39;00m \u001b[38;5;21mimshow\u001b[39m(img, st\u001b[38;5;241m=\u001b[39m\u001b[38;5;124m'\u001b[39m\u001b[38;5;124mUntitled Image\u001b[39m\u001b[38;5;124m'\u001b[39m):\n\u001b[0;32m----> 2\u001b[0m     img \u001b[38;5;241m=\u001b[39m \u001b[43mcv\u001b[49m\u001b[38;5;241;43m.\u001b[39;49m\u001b[43mcvtColor\u001b[49m\u001b[43m(\u001b[49m\u001b[43mimg\u001b[49m\u001b[43m,\u001b[49m\u001b[43m \u001b[49m\u001b[43mcv\u001b[49m\u001b[38;5;241;43m.\u001b[39;49m\u001b[43mCOLOR_BGR2RGB\u001b[49m\u001b[43m)\u001b[49m\n\u001b[1;32m      3\u001b[0m     plt\u001b[38;5;241m.\u001b[39mimshow(img)\n\u001b[1;32m      4\u001b[0m     plt\u001b[38;5;241m.\u001b[39mtitle(st)\n",
      "\u001b[0;31merror\u001b[0m: OpenCV(4.8.1) /io/opencv/modules/imgproc/src/color.cpp:182: error: (-215:Assertion failed) !_src.empty() in function 'cvtColor'\n"
     ]
    }
   ],
   "source": [
    "assign = cv.imread('assign.jpg')\n",
    "imshow(assign)"
   ]
  },
  {
   "cell_type": "code",
   "execution_count": 4,
   "id": "2e785ce6-8e78-4ced-901c-d50f2ce67f04",
   "metadata": {},
   "outputs": [
    {
     "ename": "TypeError",
     "evalue": "'NoneType' object is not subscriptable",
     "output_type": "error",
     "traceback": [
      "\u001b[0;31m---------------------------------------------------------------------------\u001b[0m",
      "\u001b[0;31mTypeError\u001b[0m                                 Traceback (most recent call last)",
      "Cell \u001b[0;32mIn[4], line 3\u001b[0m\n\u001b[1;32m      1\u001b[0m bgr \u001b[38;5;241m=\u001b[39m np\u001b[38;5;241m.\u001b[39marray([\u001b[38;5;241m210\u001b[39m, \u001b[38;5;241m210\u001b[39m, \u001b[38;5;241m210\u001b[39m])\n\u001b[1;32m      2\u001b[0m thr \u001b[38;5;241m=\u001b[39m \u001b[38;5;241m30\u001b[39m\n\u001b[0;32m----> 3\u001b[0m assign[ (\u001b[43massign\u001b[49m\u001b[43m[\u001b[49m\u001b[43m:\u001b[49m\u001b[43m,\u001b[49m\u001b[43m \u001b[49m\u001b[43m:\u001b[49m\u001b[43m,\u001b[49m\u001b[43m \u001b[49m\u001b[38;5;241;43m0\u001b[39;49m\u001b[43m]\u001b[49m \u001b[38;5;241m<\u001b[39m (\u001b[38;5;241m210\u001b[39m\u001b[38;5;241m+\u001b[39mthr)) \u001b[38;5;241m&\u001b[39m (assign[:, :, \u001b[38;5;241m0\u001b[39m] \u001b[38;5;241m>\u001b[39m\u001b[38;5;241m=\u001b[39m (\u001b[38;5;241m210\u001b[39m\u001b[38;5;241m-\u001b[39mthr)) \\\n\u001b[1;32m      4\u001b[0m         \u001b[38;5;241m&\u001b[39m (assign[:, :, \u001b[38;5;241m1\u001b[39m] \u001b[38;5;241m<\u001b[39m (\u001b[38;5;241m210\u001b[39m\u001b[38;5;241m+\u001b[39mthr)) \u001b[38;5;241m&\u001b[39m (assign[:, :, \u001b[38;5;241m1\u001b[39m] \u001b[38;5;241m>\u001b[39m\u001b[38;5;241m=\u001b[39m (\u001b[38;5;241m210\u001b[39m\u001b[38;5;241m-\u001b[39mthr)) \\\n\u001b[1;32m      5\u001b[0m         \u001b[38;5;241m&\u001b[39m (assign[:, :, \u001b[38;5;241m2\u001b[39m] \u001b[38;5;241m<\u001b[39m (\u001b[38;5;241m210\u001b[39m\u001b[38;5;241m+\u001b[39mthr)) \u001b[38;5;241m&\u001b[39m (assign[:, :, \u001b[38;5;241m2\u001b[39m] \u001b[38;5;241m>\u001b[39m\u001b[38;5;241m=\u001b[39m (\u001b[38;5;241m210\u001b[39m\u001b[38;5;241m-\u001b[39mthr)) ] \u001b[38;5;241m=\u001b[39m [\u001b[38;5;241m0\u001b[39m, \u001b[38;5;241m0\u001b[39m, \u001b[38;5;241m0\u001b[39m]\n",
      "\u001b[0;31mTypeError\u001b[0m: 'NoneType' object is not subscriptable"
     ]
    }
   ],
   "source": [
    "bgr = np.array([210, 210, 210])\n",
    "thr = 30\n",
    "assign[ (assign[:, :, 0] < (210+thr)) & (assign[:, :, 0] >= (210-thr)) \\\n",
    "        & (assign[:, :, 1] < (210+thr)) & (assign[:, :, 1] >= (210-thr)) \\\n",
    "        & (assign[:, :, 2] < (210+thr)) & (assign[:, :, 2] >= (210-thr)) ] = [0, 0, 0]"
   ]
  },
  {
   "cell_type": "code",
   "execution_count": 5,
   "id": "14264ee4-f3ef-4f41-a4c5-ae16e1baae5a",
   "metadata": {},
   "outputs": [
    {
     "ename": "error",
     "evalue": "OpenCV(4.8.1) /io/opencv/modules/imgproc/src/color.cpp:182: error: (-215:Assertion failed) !_src.empty() in function 'cvtColor'\n",
     "output_type": "error",
     "traceback": [
      "\u001b[0;31m---------------------------------------------------------------------------\u001b[0m",
      "\u001b[0;31merror\u001b[0m                                     Traceback (most recent call last)",
      "Cell \u001b[0;32mIn[5], line 1\u001b[0m\n\u001b[0;32m----> 1\u001b[0m assign_gray \u001b[38;5;241m=\u001b[39m \u001b[43mcv\u001b[49m\u001b[38;5;241;43m.\u001b[39;49m\u001b[43mcvtColor\u001b[49m\u001b[43m(\u001b[49m\u001b[43massign\u001b[49m\u001b[43m,\u001b[49m\u001b[43m \u001b[49m\u001b[43mcv\u001b[49m\u001b[38;5;241;43m.\u001b[39;49m\u001b[43mCOLOR_BGR2GRAY\u001b[49m\u001b[43m)\u001b[49m\n\u001b[1;32m      2\u001b[0m ret, assign_gray \u001b[38;5;241m=\u001b[39m cv\u001b[38;5;241m.\u001b[39mthreshold(assign_gray, \u001b[38;5;241m10\u001b[39m, \u001b[38;5;241m255\u001b[39m, cv\u001b[38;5;241m.\u001b[39mTHRESH_BINARY)\n",
      "\u001b[0;31merror\u001b[0m: OpenCV(4.8.1) /io/opencv/modules/imgproc/src/color.cpp:182: error: (-215:Assertion failed) !_src.empty() in function 'cvtColor'\n"
     ]
    }
   ],
   "source": [
    "assign_gray = cv.cvtColor(assign, cv.COLOR_BGR2GRAY)\n",
    "ret, assign_gray = cv.threshold(assign_gray, 10, 255, cv.THRESH_BINARY)"
   ]
  },
  {
   "cell_type": "code",
   "execution_count": 6,
   "id": "dfce665d-1126-4738-bbc2-b7e961f76f30",
   "metadata": {},
   "outputs": [
    {
     "ename": "NameError",
     "evalue": "name 'assign_gray' is not defined",
     "output_type": "error",
     "traceback": [
      "\u001b[0;31m---------------------------------------------------------------------------\u001b[0m",
      "\u001b[0;31mNameError\u001b[0m                                 Traceback (most recent call last)",
      "Cell \u001b[0;32mIn[6], line 1\u001b[0m\n\u001b[0;32m----> 1\u001b[0m cnt, hierarchy \u001b[38;5;241m=\u001b[39m cv\u001b[38;5;241m.\u001b[39mfindContours(\u001b[43massign_gray\u001b[49m, cv\u001b[38;5;241m.\u001b[39mRETR_TREE, cv\u001b[38;5;241m.\u001b[39mCHAIN_APPROX_SIMPLE)\n\u001b[1;32m      2\u001b[0m \u001b[38;5;66;03m# cv.drawContours(assign, cnt, -1, (255, 0, 0), 1, cv.LINE_AA)\u001b[39;00m\n\u001b[1;32m      3\u001b[0m assign_copy \u001b[38;5;241m=\u001b[39m assign\u001b[38;5;241m.\u001b[39mcopy()\n",
      "\u001b[0;31mNameError\u001b[0m: name 'assign_gray' is not defined"
     ]
    }
   ],
   "source": [
    "cnt, hierarchy = cv.findContours(assign_gray, cv.RETR_TREE, cv.CHAIN_APPROX_SIMPLE)\n",
    "# cv.drawContours(assign, cnt, -1, (255, 0, 0), 1, cv.LINE_AA)\n",
    "assign_copy = assign.copy()\n",
    "dummy = np.full_like(assign, 255)\n",
    "count = 0\n",
    "conts = []\n",
    "shape = {\n",
    "    3: ['Triangles', 0],\n",
    "    4: ['Quadrilaterals', 0],\n",
    "    5: ['Pentagons', 0]\n",
    "}\n",
    "assignment = cv.imread('assign.jpg')\n",
    "assignment_copy = assignment.copy()\n",
    "for c in cnt:\n",
    "    epsilon = 0.05*cv.arcLength(c,True)\n",
    "    approx = cv.approxPolyDP(c,epsilon,True)\n",
    "    epsilon = 0.01*cv.arcLength(approx,True)\n",
    "    approx = cv.approxPolyDP(approx,epsilon,True)\n",
    "    n = len(approx)\n",
    "    if cv.contourArea(approx) > 10000:\n",
    "        count += 1\n",
    "        conts.append(approx)\n",
    "        shape[len(approx)][1] += 1\n",
    "        cv.drawContours(assignment_copy, [approx], -1, (25, 0, 0), -1, cv.LINE_AA)\n",
    "        cv.drawContours(dummy, [approx], -1, (255, 0, 0), -1, cv.LINE_AA)"
   ]
  },
  {
   "cell_type": "code",
   "execution_count": null,
   "id": "a3d43d13-1010-437b-ad51-a7eb0b431195",
   "metadata": {},
   "outputs": [],
   "source": [
    "assignment = cv.imread('assign.jpg')\n",
    "imshow(assignment, 'Initial Image')\n",
    "imshow(dummy, 'Final Image')\n",
    "imshow(assignment_copy)"
   ]
  },
  {
   "cell_type": "code",
   "execution_count": null,
   "id": "99fc0edd-d337-4432-9b25-7c01b44009d6",
   "metadata": {},
   "outputs": [],
   "source": [
    "for key in shape.keys():\n",
    "    print(f'{shape[key][0]} : {shape[key][1]}')"
   ]
  },
  {
   "cell_type": "code",
   "execution_count": null,
   "id": "ef364045-1f03-4dd1-bca5-81d35c2673d1",
   "metadata": {},
   "outputs": [],
   "source": []
  }
 ],
 "metadata": {
  "kernelspec": {
   "display_name": "Python 3 (ipykernel)",
   "language": "python",
   "name": "python3"
  },
  "language_info": {
   "codemirror_mode": {
    "name": "ipython",
    "version": 3
   },
   "file_extension": ".py",
   "mimetype": "text/x-python",
   "name": "python",
   "nbconvert_exporter": "python",
   "pygments_lexer": "ipython3",
   "version": "3.10.12"
  }
 },
 "nbformat": 4,
 "nbformat_minor": 5
}
